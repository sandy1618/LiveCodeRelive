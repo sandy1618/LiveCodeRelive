{
 "cells": [
  {
   "cell_type": "markdown",
   "metadata": {},
   "source": [
    "## quickSort"
   ]
  },
  {
   "cell_type": "markdown",
   "metadata": {},
   "source": [
    "Using quickSort, sort the following and think of Order of Algorithm.\n",
    "the core is partition.\n",
    "\n",
    "Hint: \n",
    "Illustration of partition() :\n",
    "\n",
    "arr[] = {10, 80, 30, 90, 40, 50, 70}\n",
    "Indexes:  0   1   2   3   4   5   6 \n",
    "Partitioned array:\n",
    "arr[] = {10, 30, 40, 50, 70, 90, 80}\n",
    "\n",
    "low = 0, high =  6, pivot = arr[h] = 70\n",
    "Initialize index of smaller element, i = -1\n",
    "\n",
    "Traverse elements from j = low to high-1\n",
    "j = 0 : Since arr[j] <= pivot, do i++ and swap(arr[i], arr[j])\n",
    "i = 0 \n",
    "arr[] = {10, 80, 30, 90, 40, 50, 70} // No change as i and j \n",
    "                                     // are same\n",
    "\n",
    "j = 1 : Since arr[j] > pivot, do nothing\n",
    "// No change in i and arr[]\n",
    "\n",
    "j = 2 : Since arr[j] <= pivot, do i++ and swap(arr[i], arr[j])\n",
    "i = 1\n",
    "arr[] = {10, 30, 80, 90, 40, 50, 70} // We swap 80 and 30 \n",
    "\n",
    "j = 3 : Since arr[j] > pivot, do nothing\n",
    "// No change in i and arr[]\n",
    "\n",
    "j = 4 : Since arr[j] <= pivot, do i++ and swap(arr[i], arr[j])\n",
    "i = 2\n",
    "arr[] = {10, 30, 40, 90, 80, 50, 70} // 80 and 40 Swapped\n",
    "j = 5 : Since arr[j] <= pivot, do i++ and swap arr[i] with arr[j] \n",
    "i = 3 \n",
    "arr[] = {10, 30, 40, 50, 80, 90, 70} // 90 and 50 Swapped \n",
    "\n",
    "We come out of loop because j is now equal to high-1.\n",
    "Finally we place pivot at correct position by swapping\n",
    "arr[i+1] and arr[high] (or pivot) \n",
    "arr[] = {10, 30, 40, 50, 70, 90, 80} // 80 and 70 Swapped \n",
    "\n",
    "Now 70 is at its correct place. All elements smaller than\n",
    "70 are before it and all elements greater than 70 are after\n",
    "it."
   ]
  },
  {
   "cell_type": "code",
   "execution_count": 9,
   "metadata": {},
   "outputs": [],
   "source": [
    "# # Function to do Quick sort \n",
    "# def quickSort(arr,low,high): \n",
    "#     if low < high: \n",
    "  \n",
    "#         # pi is partitioning index, arr[p] is now \n",
    "#         # at right place \n",
    "#         pi = partition(arr,low,high) \n",
    "  \n",
    "#         # Separately sort elements before \n",
    "#         # partition and after partition \n",
    "#         quickSort(arr, low, pi-1) \n",
    "#         quickSort(arr, pi+1, high)\n",
    "# def partition(arr,low,high): \n",
    "#     i = ( low-1 )         # index of smaller element \n",
    "#     pivot = arr[high]     # pivot \n",
    "  \n",
    "#     for j in range(low , high): \n",
    "  \n",
    "#         # If current element is smaller than the pivot \n",
    "#         if   arr[j] < pivot: \n",
    "          \n",
    "#             # increment index of smaller element \n",
    "#             i = i+1 \n",
    "#             arr[i],arr[j] = arr[j],arr[i] \n",
    "  \n",
    "#     arr[i+1],arr[high] = arr[high],arr[i+1] \n",
    "#     return ( i+1 ) \n",
    "  \n",
    "# # The main function that implements QuickSort \n",
    "# # arr[] --> Array to be sorted, \n",
    "# # low  --> Starting index, \n",
    "# # high  --> Ending index \n",
    "\n"
   ]
  },
  {
   "cell_type": "code",
   "execution_count": 6,
   "metadata": {},
   "outputs": [],
   "source": [
    "def quickSort(arr, low, high):\n",
    "    if low < high:\n",
    "        pi = partition(arr, low, high)\n",
    "\n",
    "        quickSort(arr, 0, pi-1)\n",
    "        quickSort(arr, pi+1, high)\n",
    "\n",
    "\n",
    "def partition(arr, low, high):\n",
    "    i = low - 1\n",
    "    pivot = arr[high]\n",
    "\n",
    "    for j in range(low, high):\n",
    "        if arr[j] < pivot:\n",
    "            i += 1\n",
    "            arr[i], arr[j] = arr[j], arr[i]\n",
    "    # Final swap.\n",
    "    arr[i+1], arr[high] = arr[high], arr[i+1]\n",
    "    return i+1\n"
   ]
  },
  {
   "cell_type": "code",
   "execution_count": 7,
   "metadata": {},
   "outputs": [
    {
     "data": {
      "text/plain": [
       "[1, 2, 2, 3, 5, 5, 6, 7]"
      ]
     },
     "execution_count": 7,
     "metadata": {},
     "output_type": "execute_result"
    }
   ],
   "source": [
    "arr = [1,2,5,6,7,3,2,5] \n",
    "n = len(arr) \n",
    "quickSort(arr,0,n-1) \n",
    "arr"
   ]
  }
 ],
 "metadata": {
  "kernelspec": {
   "display_name": "Python 3",
   "language": "python",
   "name": "python3"
  },
  "language_info": {
   "codemirror_mode": {
    "name": "ipython",
    "version": 3
   },
   "file_extension": ".py",
   "mimetype": "text/x-python",
   "name": "python",
   "nbconvert_exporter": "python",
   "pygments_lexer": "ipython3",
   "version": "3.10.8"
  }
 },
 "nbformat": 4,
 "nbformat_minor": 2
}
