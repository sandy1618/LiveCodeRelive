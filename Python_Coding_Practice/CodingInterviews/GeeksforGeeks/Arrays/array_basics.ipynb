{
 "cells": [
  {
   "cell_type": "markdown",
   "metadata": {},
   "source": [
    "## 1. Reversing an Array "
   ]
  },
  {
   "cell_type": "markdown",
   "metadata": {},
   "source": [
    "#### Two pointer approach ! "
   ]
  },
  {
   "cell_type": "code",
   "execution_count": 9,
   "metadata": {},
   "outputs": [
    {
     "name": "stdout",
     "output_type": "stream",
     "text": [
      "[5, 2, 3, 7, 6, 2, 1]\n"
     ]
    }
   ],
   "source": [
    "def reverseArray(arr):\n",
    "    n = len(arr)\n",
    "    i = 0\n",
    "    j = n-1\n",
    "    while i < j:\n",
    "        arr[i],arr[j] = arr[j],arr[i]\n",
    "        i=i+1\n",
    "        j=j-1\n",
    "\n",
    "arr = [1,2,6,7,3,2,5]\n",
    "\n",
    "reverseArray(arr)\n",
    "print(arr)\n",
    "\n",
    "\n",
    "# Time : O(n/2) == O(n)\n",
    "# Space : O(1) \n",
    "# In place , constant space. \n"
   ]
  },
  {
   "cell_type": "code",
   "execution_count": 13,
   "metadata": {},
   "outputs": [
    {
     "name": "stdout",
     "output_type": "stream",
     "text": [
      "[1, 5, 2, 3, 7, 6, 2, 1]\n"
     ]
    }
   ],
   "source": [
    "# Mirroring approach\n",
    "def reverseArray(arr):\n",
    "    n = len(arr)\n",
    "    for i in range(n//2):\n",
    "        # Mirroring formula. \n",
    "        arr[i],arr[n-1-i]=arr[n-1-i],arr[i]\n",
    "\n",
    "arr = [1,2,6,7,3,2,5,1]\n",
    "\n",
    "reverseArray(arr)\n",
    "print(arr)"
   ]
  },
  {
   "cell_type": "markdown",
   "metadata": {},
   "source": [
    "### Using Recursions"
   ]
  },
  {
   "cell_type": "code",
   "execution_count": 3,
   "metadata": {},
   "outputs": [
    {
     "name": "stdout",
     "output_type": "stream",
     "text": [
      "[1, 5, 2, 3, 7, 6, 2, 1]\n"
     ]
    }
   ],
   "source": [
    "def reverseArray(arr,low,high):\n",
    "    if low < high : \n",
    "        arr[low],arr[high] = arr[high],arr[low]\n",
    "        low = low + 1\n",
    "        high = high -1 \n",
    "        reverseArray(arr,low,high)\n",
    "        \n",
    "    \n",
    "arr = [1,2,6,7,3,2,5,1]\n",
    "n = len(arr)\n",
    "reverseArray(arr,0,n-1)\n",
    "print(arr)"
   ]
  },
  {
   "cell_type": "markdown",
   "metadata": {},
   "source": [
    "Key Differences:m\n",
    "\n",
    "Loop Structure:\n",
    "\n",
    "The two-pointer approach uses a while loop that continues until the two pointers meet or cross each other.\n",
    "The mirroring approach uses a for loop that iterates only over the first half of the array.\n",
    "Number of Swaps:\n",
    "\n",
    "Both approaches perform the same number of swaps (roughly n/2 swaps for an array of size n), so they have similar time complexity.\n",
    "Clarity:\n",
    "\n",
    "The mirroring approach might be considered more concise and easier to understand, especially if the mirroring operation is well-known.\n",
    "Both approaches are efficient, and the choice between them may depend on factors such as readability, familiarity, and specific requirements of the use case.m"
   ]
  },
  {
   "cell_type": "markdown",
   "metadata": {},
   "source": [
    "## 2. Moving Zeroes "
   ]
  },
  {
   "cell_type": "markdown",
   "metadata": {},
   "source": [
    "Given an integer array nums, move all 0's to the end of it while maintaining the relative order of the non-zero elements.\n",
    "\n",
    "Example 1:\n",
    "\n",
    "Input: nums = [0,1,0,3,12] \n",
    "Output: [1,3,12,0,0]"
   ]
  },
  {
   "cell_type": "markdown",
   "metadata": {},
   "source": [
    "#### Two Array Approach \n",
    "Time Complexity : O(n)\n",
    "\n",
    "Space Complexity: O(n)"
   ]
  },
  {
   "cell_type": "code",
   "execution_count": 7,
   "metadata": {},
   "outputs": [
    {
     "name": "stdout",
     "output_type": "stream",
     "text": [
      "[1, 3, 12, 0, 0]\n"
     ]
    }
   ],
   "source": [
    "def moveZeroes(arr):\n",
    "    n=len(arr)\n",
    "    n_arr = [0]*n\n",
    "    i = 0 \n",
    "    j = 0\n",
    "    while i < n:\n",
    "        if arr[i]!=0:\n",
    "            n_arr[j] = arr[i]\n",
    "            j+=1\n",
    "        i+=1      \n",
    "    return n_arr\n",
    "\n",
    "arr = [0,1,0,3,12]\n",
    "print(moveZeroes(arr))\n"
   ]
  },
  {
   "cell_type": "markdown",
   "metadata": {},
   "source": [
    "#### Two pointer Approach \n",
    "Time Complexity : O(n)\n",
    "\n",
    "Space Complexity: O(1) + 2 pointers "
   ]
  },
  {
   "cell_type": "code",
   "execution_count": 5,
   "metadata": {},
   "outputs": [
    {
     "name": "stdout",
     "output_type": "stream",
     "text": [
      "[1, 3, 12, 0, 0]\n"
     ]
    }
   ],
   "source": [
    "def moveZeroes(arr):\n",
    "    i = 0 #Zero tracker \n",
    "    j = 0 #iterator \n",
    "    n = len(arr)\n",
    "    for j in range(n):\n",
    "        if arr[j] != 0:\n",
    "            arr[j],arr[i]=arr[i],arr[j]\n",
    "            i+=1\n",
    "    \n",
    "arr = [0,1,0,3,12]\n",
    "moveZeroes(arr)\n",
    "print(arr)"
   ]
  },
  {
   "cell_type": "code",
   "execution_count": 9,
   "metadata": {},
   "outputs": [
    {
     "name": "stdout",
     "output_type": "stream",
     "text": [
      "[0, 0, 3, 12, 1]\n"
     ]
    }
   ],
   "source": [
    "def moveZeroesRecursive(nums, i=0):\n",
    "    if i < len(nums):\n",
    "        if nums[i] != 0:\n",
    "            nums.append(nums.pop(i))  # Move non-zero element to the end\n",
    "        else:\n",
    "            moveZeroesRecursive(nums, i + 1)\n",
    "    \n",
    "    # Base case: all elements processed, fill remaining positions with zeros\n",
    "    while len(nums) < i:\n",
    "        nums.append(0)\n",
    "\n",
    "# Test the recursive function\n",
    "nums = [0, 1, 0, 3, 12]\n",
    "moveZeroesRecursive(nums)\n",
    "print(nums)  # Output: [1, 3, 12, 0, 0]\n"
   ]
  },
  {
   "cell_type": "markdown",
   "metadata": {},
   "source": [
    "## 3.Common Elements \n",
    "Given three arrays sorted in increasing order. Find the elements that are common in all three arrays. Note: can you take care of the duplicates without using any additional Data Structure? \n",
    "Duplicates needs to be removed. "
   ]
  },
  {
   "cell_type": "code",
   "execution_count": 11,
   "metadata": {},
   "outputs": [
    {
     "name": "stdout",
     "output_type": "stream",
     "text": [
      "[20, 80]\n"
     ]
    }
   ],
   "source": [
    "def commonElements(A,B,C):\n",
    "    common_lst=[]\n",
    "    for a in A: \n",
    "        if a in B and a in C: \n",
    "            if a not in common_lst:\n",
    "                common_lst.append(a)\n",
    "    return common_lst\n",
    "A = [1, 5, 10, 20, 40, 80]\n",
    "B = [6, 7, 20, 80, 100]\n",
    "C = [3, 4, 15, 20, 30, 70, 80, 120] \n",
    "print(commonElements(A,B,C))"
   ]
  },
  {
   "cell_type": "code",
   "execution_count": 11,
   "metadata": {},
   "outputs": [
    {
     "name": "stdout",
     "output_type": "stream",
     "text": [
      "[0, 3, 4]\n"
     ]
    }
   ],
   "source": [
    "def commonElements(A,B,C):\n",
    "    i=0\n",
    "    j=0\n",
    "    k=0\n",
    "    ce_lst=[]\n",
    "    prev_val=-96799999\n",
    "    while i < len(A) and j<len(B) and k<len(C):\n",
    "        if A[i]==B[j] and A[i]==C[k]:\n",
    "            if prev_val != A[i]:\n",
    "                ce_lst.append(A[i])\n",
    "                prev_val = A[i]\n",
    "            \n",
    "            i+=1\n",
    "            j+=1\n",
    "            k+=1\n",
    "                \n",
    "        elif A[i]>B[j]:\n",
    "            j+=1\n",
    "        elif A[i]>C[k]:\n",
    "            k+=1\n",
    "        else:\n",
    "            i+=1\n",
    "  \n",
    "    return ce_lst\n",
    "\n",
    "\n",
    "C = [0,0,3,3,4,5,6]\n",
    "B = [0,0,1,2,3,3,4]\n",
    "A = [0,0,2,3,3,4,5]\n",
    "\n",
    "print(commonElements(A,B,C))\n",
    "\n"
   ]
  },
  {
   "cell_type": "code",
   "execution_count": 13,
   "metadata": {},
   "outputs": [
    {
     "name": "stdout",
     "output_type": "stream",
     "text": [
      "[0, 3, 4]\n"
     ]
    }
   ],
   "source": [
    "def commonElements(A,B,C):\n",
    "    i=0\n",
    "    j=0\n",
    "    k=0\n",
    "    ce_lst=[]\n",
    "    prev_val=-96799999\n",
    "    while i < len(A) and j<len(B) and k<len(C):\n",
    "        if A[i]==B[j] and A[i]==C[k]:\n",
    "            if prev_val != A[i]:\n",
    "                ce_lst.append(A[i])\n",
    "                prev_val = A[i]\n",
    "            \n",
    "            i+=1\n",
    "            j+=1\n",
    "            k+=1\n",
    "                \n",
    "        elif min(A[i],B[j],C[k]) == A[i]:\n",
    "            i+=1\n",
    "        elif min(A[i],B[j],C[k]) == B[j]:\n",
    "            j+=1\n",
    "        else:\n",
    "            k+=1\n",
    "  \n",
    "    return ce_lst\n",
    "\n",
    "\n",
    "C = [0,0,3,3,4,5,6]\n",
    "B = [0,0,1,2,3,3,4]\n",
    "A = [0,0,2,3,3,4,5]\n",
    "\n",
    "print(commonElements(A,B,C))\n",
    "\n"
   ]
  },
  {
   "cell_type": "markdown",
   "metadata": {},
   "source": [
    "## 4. Segregate Even and Odd \n",
    "\n",
    "Given an integer array nums, move all the even integers at the beginning of the array followed by all the odd integers.\n",
    "\n",
    "Return any array that satisfies this condition.\n",
    "\n",
    "Example 1:\n",
    "\n",
    "Input: nums = [3, 1, 2, 4] \n",
    "\n",
    "Output: [2, 4, 1, 3]\n",
    "\n",
    "Explanation: The outputs [4, 2, 3, 1], [2, 4, 1, 3], and [4, 2, 1, 3] would also be accepted."
   ]
  },
  {
   "cell_type": "markdown",
   "metadata": {},
   "source": [
    "### Two Array Approach \n",
    "The given code attempts to segregate even and odd numbers in an array by creating two separate arrays for even and odd numbers and then concatenating them to form the final array\n",
    "    \n",
    "Time complexity : O(n)\n",
    "Space complexity: O(2n)"
   ]
  },
  {
   "cell_type": "code",
   "execution_count": 10,
   "metadata": {},
   "outputs": [
    {
     "name": "stdout",
     "output_type": "stream",
     "text": [
      "[2, 4, 3, 1]\n"
     ]
    }
   ],
   "source": [
    "\n",
    "def segEvenOdd(arr):\n",
    "    evenArray=[]\n",
    "    oddArray=[]\n",
    "    for num in arr:\n",
    "        if num % 2 == 0 : \n",
    "            evenArray.append(num)\n",
    "        else:\n",
    "            oddArray.append(num)\n",
    "    evenArray.extend(oddArray)\n",
    "    return evenArray\n",
    "\n",
    "arr = [3, 1, 2, 4] \n",
    "print(segEvenOdd(arr))"
   ]
  },
  {
   "cell_type": "markdown",
   "metadata": {},
   "source": [
    "### Two pointer approach (In place)\n",
    "\n",
    "maintain two pointers (left and right). The left pointer moves forward until an odd number is encountered, and the right pointer moves backward until an even number is encountered. When both pointers stop, we swap the elements at the left and right positions. This process continues until left is no longer less than right.\n",
    "\n",
    "Time Complexity: O(n) \n",
    "\n",
    "Space Complexity: O(1)"
   ]
  },
  {
   "cell_type": "code",
   "execution_count": 14,
   "metadata": {},
   "outputs": [
    {
     "name": "stdout",
     "output_type": "stream",
     "text": [
      "[4, 2, 1, 3]\n"
     ]
    }
   ],
   "source": [
    "def segEvenOdd(nums): \n",
    "    left  = 0 \n",
    "    right = len(nums) -1 \n",
    "    # Crossover condition \n",
    "    while left < right: \n",
    "        if nums[left] % 2 == 0 : \n",
    "            left +=1 \n",
    "        else : \n",
    "            nums[left],nums[right] = nums[right],nums[left]\n",
    "            right -=1\n",
    "    return nums \n",
    "\n",
    "nums = [3, 1, 2, 4] \n",
    "print(segEvenOdd(nums))"
   ]
  },
  {
   "cell_type": "markdown",
   "metadata": {},
   "source": [
    "\n",
    "## 4. Segregate Even and Odd 2 \n",
    "\n",
    "Given an array of integers nums, half of the integers in nums are odd, and the other half are even.\n",
    "\n",
    "Sort the array so that whenever nums[i] is odd, i is odd, and whenever nums[i] is even, i is even.\n",
    "\n",
    "Return any answer array that satisfies this condition.\n",
    "\n",
    "Example 1:\n",
    "\n",
    "Input: nums = [4,2,5,7] \n",
    "\n",
    "Output: [4,5,2,7]\n",
    "\n",
    "Explanation: [4,7,2,5], [2,5,4,7], [2,7,4,5] would also have been accepted."
   ]
  },
  {
   "cell_type": "markdown",
   "metadata": {},
   "source": [
    "### Inplace 2 pointer approach \n",
    "the loop condition even < n and odd < n ensures that we stop when either even or odd index exceeds the length of the array nums.\n",
    "\n",
    "\n",
    "Time Complexity: O(n) \n",
    "\n",
    "Space Complexity: O(1)"
   ]
  },
  {
   "cell_type": "code",
   "execution_count": 28,
   "metadata": {},
   "outputs": [
    {
     "name": "stdout",
     "output_type": "stream",
     "text": [
      "[2, 3]\n"
     ]
    }
   ],
   "source": [
    "def segEvenOdd2(nums): \n",
    "    even = 0\n",
    "    odd = 1\n",
    "    n = len(nums)\n",
    "    while even < n and odd < n : \n",
    "        if nums[even] % 2 == 0 : \n",
    "            even +=2 \n",
    "        elif nums[odd] % 2 != 0 :\n",
    "            odd +=2            \n",
    "        else: \n",
    "            nums[odd],nums[even] = nums[even], nums[odd]\n",
    "    return nums\n",
    "\n",
    "nums = [3,2] \n",
    "print(segEvenOdd2(nums))"
   ]
  },
  {
   "cell_type": "markdown",
   "metadata": {},
   "source": [
    "### 2 Array approach \n",
    "Time Complexity:\n",
    "\n",
    "Constructing even and odd lists: Creating these lists involves iterating through the entire nums array once for both even and odd lists. This takes O(n) time.\n",
    "Constructing the result array: The loop iterates through the nums array once. Inside the loop, the pop() operation for both even and odd lists each takes O(1) time, as it removes the last element without shifting. Since both operations take constant time and are performed n times, the total time complexity is O(n).\n",
    "Overall, the time complexity of the code is O(n).\n",
    "\n",
    "Space Complexity:\n",
    "\n",
    "Creating even and odd lists: These lists store even and odd elements from the nums array. In the worst case, they can each store up to n/2 elements, resulting in O(n) space.\n",
    "result array: This array stores the sorted output, which is also O(n) space.\n",
    "The total space complexity is O(n) due to the additional lists created and the result array.\n",
    "\n",
    "In summary, the updated code has a time complexity of O(n) and a space complexity of O(n), making it more efficient than the previous version that used pop(0) operations inside the loop.\n",
    "\n",
    "\n",
    "\n",
    "\n"
   ]
  },
  {
   "cell_type": "code",
   "execution_count": 33,
   "metadata": {},
   "outputs": [
    {
     "name": "stdout",
     "output_type": "stream",
     "text": [
      "[2, 7, 4, 5]\n"
     ]
    }
   ],
   "source": [
    "def segEvenOdd2(nums):\n",
    "    even = [x for x in nums if x % 2 == 0]\n",
    "    odd = [x for x in nums if x % 2 != 0]\n",
    "    \n",
    "    result = []\n",
    "    for i in range(len(nums)):\n",
    "        if i % 2 == 0:\n",
    "            result.append(even.pop())\n",
    "        else:\n",
    "            result.append(odd.pop())\n",
    "    \n",
    "    return result\n",
    "\n",
    "nums = [4, 2, 5, 7] \n",
    "print(segEvenOdd2(nums))\n"
   ]
  }
 ],
 "metadata": {
  "kernelspec": {
   "display_name": "Python 3",
   "language": "python",
   "name": "python3"
  },
  "language_info": {
   "codemirror_mode": {
    "name": "ipython",
    "version": 3
   },
   "file_extension": ".py",
   "mimetype": "text/x-python",
   "name": "python",
   "nbconvert_exporter": "python",
   "pygments_lexer": "ipython3",
   "version": "3.10.8"
  },
  "orig_nbformat": 4
 },
 "nbformat": 4,
 "nbformat_minor": 2
}
