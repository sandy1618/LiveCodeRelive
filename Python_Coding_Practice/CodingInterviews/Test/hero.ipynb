{
 "cells": [
  {
   "attachments": {},
   "cell_type": "markdown",
   "metadata": {},
   "source": [
    "## 1st question \n",
    "You have been given a two-dimensional array reservations of type int as an argument of solution function.\n",
    "Each element of reservations represents the restaurant reservation's start and end times as an int type.\n",
    "\n",
    "For example, when reservations is [[0,5],[2,5],[5,10]], the number of required tables is 2.\n",
    "This is because we need separate tables to handle reservations for [0,5] and [2,5], but at the time of last reservation [5,10], [0,5], and [2,5] has already been left.\n",
    "\n",
    "As a restaurant owner, write an algorithm to find the number of tables you need when reservations is given as an argument.\n",
    "\n",
    "Examples\n",
    "Example 1:\n",
    "Input: reservations = [[0,5],[2,5],[5,10]]\n",
    "Output: 2\n",
    "Description: Because we need separate tables to handle [0,5] and [2,5]\n",
    "Example 2:\n",
    "Input: reservations = [[0,5],[5,10],[10,15]]\n",
    "Output: 1\n",
    "Description: Because [5,10] enters when [0,5] leaves. Similarly, [10,15] enters when [5,10] leaves.\n",
    "Example 3:\n",
    "Input: reservations = [[0,15],[0,5],[0,10]]\n",
    "Output: 3\n",
    "Description: The number of tables required for all reservations to enter at the same time is 3"
   ]
  },
  {
   "cell_type": "code",
   "execution_count": 2,
   "metadata": {},
   "outputs": [
    {
     "name": "stdout",
     "output_type": "stream",
     "text": [
      "2\n"
     ]
    }
   ],
   "source": [
    "def solution(reservations):\n",
    "    # Sort reservations based on start time\n",
    "    reservations.sort(key=lambda x: x[0])\n",
    "\n",
    "    endTimes = []\n",
    "    tables = 0\n",
    "\n",
    "    for reservation in reservations:\n",
    "        start_time, end_time = reservation\n",
    "\n",
    "        # Check if reservation's start time is greater than or equal to any end time in the current tables\n",
    "        if any(start_time >= t for t in endTimes):\n",
    "            # Remove end times that have passed\n",
    "            endTimes = [t for t in endTimes if t > start_time]\n",
    "        else:\n",
    "            tables += 1\n",
    "\n",
    "        endTimes.append(end_time)\n",
    "\n",
    "    return tables\n",
    "\n",
    "print(solution([[0,5],[2,5],[5,10]]))\n",
    "\n",
    "# s = [[0,15],[0,5],[0,10],[5,10],[10,11]]\n",
    "\n"
   ]
  },
  {
   "attachments": {},
   "cell_type": "markdown",
   "metadata": {},
   "source": [
    "## 2\n",
    "You have been given two diemensional arrays triangles of type int as an argument for the solution function.\n",
    "The element of triangles represents the length of the side of the triangle, and the length of triangles[i] is always 3.\n",
    "Write a program that counts the number of unique triangles as the return value.\n",
    "\n",
    "Here, a unique triangle refers to a triangle whose side length is different when placed on a two-dimensional plane.\n",
    "For example, when [[1,1,1],[1,1,2]] is given as an argument, the number of unique triangles is 2.\n",
    "This is because the first triangle is an equilateral triangle, while the second triangle is an isosceles triangle and has a different shape.\n",
    "\n",
    "Examples\n",
    "Example 1:\n",
    "Input: triangles = [[1,1,1],[1,1,2]]\n",
    "Output: 2\n",
    "Description: Because [1,1,1] and [1,1,2] have different triangular shapes\n",
    "Example 2:\n",
    "Input: triangles = [[2,1,1],[1,1,2],[2,2,1]]\n",
    "Output: 2\n",
    "Description: Since [2,1,1] and [1,1,2] have the same length on all sides, they are treated as the same triangle when placed on a plane. On the other hand, [2,2,1] is different from any triangle, so the answer is 2.\n",
    "Example 3:\n",
    "Input: triangles = [[1,1,1],[3,3,3],[5,5,5]]\n",
    "Output: 3\n",
    "Description: [1,1,1], [3,3,3], [5,5,5] are all equilateral triangles, but their side lengths are different. So the answer is 3."
   ]
  },
  {
   "cell_type": "code",
   "execution_count": 3,
   "metadata": {},
   "outputs": [
    {
     "name": "stdout",
     "output_type": "stream",
     "text": [
      "3\n"
     ]
    }
   ],
   "source": [
    "def solution(triangles):\n",
    "    unique_triangles = set()\n",
    "\n",
    "    for triangle in triangles:\n",
    "        sorted_triangle = tuple(sorted(triangle))\n",
    "        unique_triangles.add(sorted_triangle)\n",
    "\n",
    "    return len(unique_triangles)\n",
    "triangles = [[1,1,1],[3,3,3],[5,5,5]]\n",
    "print(solution(triangles))"
   ]
  },
  {
   "attachments": {},
   "cell_type": "markdown",
   "metadata": {},
   "source": [
    "## 3\n",
    "You have been given an array sales of type int representing daily revenue, and an array milestones of type int sorted in ascending order representing revenue milestones as arguments of the solution function.\n",
    "Write a program that returns the number of days that cumulative sales have reached each milestone as an array of type int as the return value.\n",
    "You have to return -1 as an element when the cumulative total of sales has not reached an arbitrary milestone milestones[i].\n",
    "\n",
    "For example, when sales is [10,5,20,30,10] and milestones is [30,60,90], the date when each milestone is reached is [3,4,-1].\n",
    "This is because it takes 3 days ( 10+5+20 ) to exceed the first milestone 30 and 4 days ( 10+5+20 ) to exceed the second milestone 60.\n",
    "Sum of sales are 85, and the last milestone, 90, has not been reached, so the last element of the return value is -1.\n",
    "\n",
    "Examples\n",
    "Example1:\n",
    "Input: sales = [10,5,20,30,10], milestones = [30,60,90]\n",
    "Output: [3,4,-1]\n",
    "Description: Cumulative sales `30` reached at `10+5+20`, `60` reached at `10+5+20+30`, and `90` was not reached.\n",
    "Example2:\n",
    "Input: sales = [50,30,10,10], milestones = [10,20,30]\n",
    "Output: [1,1,1]\n",
    "Description: The milestones `10`, `20`, and `30` have been reached on the first day.\n",
    "Constraint\n",
    "0　≦ len(sales) ≦ 10000\n",
    "0　≦ len(milestones) ≦ 1000\n",
    "milestones is sorted in ascending order\n",
    "Follow-Up\n",
    "It is known that N is relatively larger than M, where sales is N and milestones is M.\n",
    "Is it possible to write a better algorithm when N is greater than M?"
   ]
  },
  {
   "cell_type": "code",
   "execution_count": 6,
   "metadata": {},
   "outputs": [
    {
     "name": "stdout",
     "output_type": "stream",
     "text": [
      "[3, 4, -1]\n",
      "[1, 1, 1]\n",
      "[1, 3, 4]\n"
     ]
    }
   ],
   "source": [
    "def solution(sales, milestones):\n",
    "    result_lst = []\n",
    "    cum_sales = 0\n",
    "    day_index = 0\n",
    "\n",
    "    for milestone in milestones:\n",
    "        while day_index < len(sales) and cum_sales < milestone:  # Modified condition\n",
    "            cum_sales += sales[day_index]\n",
    "            day_index += 1\n",
    "\n",
    "        if cum_sales >= milestone:  # Adjusted the condition to check if milestone is reached\n",
    "            result_lst.append(day_index)\n",
    "\n",
    "        if cum_sales < milestone:\n",
    "            result_lst.append(-1)\n",
    "\n",
    "    return result_lst\n",
    "\n",
    "print(solution([10,5,20,30,10], [30,60,90]))  # Output: [3,4,-1]\n",
    "print(solution([50,30,10,10], [10,20,30]))  # Output: [1,1,1]\n",
    "print(solution([10,5,20,30,10], [10,30,60])) \n"
   ]
  },
  {
   "attachments": {},
   "cell_type": "markdown",
   "metadata": {},
   "source": [
    "## 4\n",
    "You have been given an array sales of type int representing daily revenue, and an array milestones of type int sorted in ascending order representing revenue milestones as arguments of the solution function.\n",
    "Write a program that returns the number of days that cumulative sales have reached each milestone as an array of type int as the return value.\n",
    "You have to return -1 as an element when the cumulative total of sales has not reached an arbitrary milestone milestones[i].\n",
    "\n",
    "For example, when sales is [10,5,20,30,10] and milestones is [30,60,90], the date when each milestone is reached is [3,4,-1].\n",
    "This is because it takes 3 days ( 10+5+20 ) to exceed the first milestone 30 and 4 days ( 10+5+20 ) to exceed the second milestone 60.\n",
    "Sum of sales are 85, and the last milestone, 90, has not been reached, so the last element of the return value is -1.\n",
    "\n",
    "Examples\n",
    "Example1:\n",
    "Input: sales = [10,5,20,30,10], milestones = [30,60,90]\n",
    "Output: [3,4,-1]\n",
    "Description: Cumulative sales `30` reached at `10+5+20`, `60` reached at `10+5+20+30`, and `90` was not reached.\n",
    "Example2:\n",
    "Input: sales = [50,30,10,10], milestones = [10,20,30]\n",
    "Output: [1,1,1]\n",
    "Description: The milestones `10`, `20`, and `30` have been reached on the first day.\n",
    "Constraint\n",
    "0　≦ len(sales) ≦ 10000\n",
    "0　≦ len(milestones) ≦ 1000\n",
    "milestones is sorted in ascending order\n",
    "Follow-Up\n",
    "It is known that N is relatively larger than M, where sales is N and milestones is M.\n",
    "Is it possible to write a better algorithm when N is greater than M?"
   ]
  },
  {
   "cell_type": "code",
   "execution_count": 7,
   "metadata": {},
   "outputs": [
    {
     "name": "stdout",
     "output_type": "stream",
     "text": [
      "3\n",
      "3\n",
      "3\n"
     ]
    }
   ],
   "source": [
    "def solution(nums, target):\n",
    "    max_size = max_subset(nums, target, [], 0, 0)\n",
    "    return max_size\n",
    "\n",
    "def max_subset(nums, target, subset, index, max_size):\n",
    "    if index == len(nums):\n",
    "        return max(max_size, len(subset))\n",
    "    \n",
    "    max_size = max(max_size, len(subset))\n",
    "    \n",
    "    for i in range(index, len(nums)):\n",
    "        new_subset = subset + [nums[i]]\n",
    "        valid_subset = True\n",
    "\n",
    "        for j in range(len(new_subset)):\n",
    "            for k in range(j + 1, len(new_subset)):\n",
    "                if (new_subset[j] + new_subset[k]) % target == 0:\n",
    "                    valid_subset = False\n",
    "                    break\n",
    "\n",
    "            if not valid_subset:\n",
    "                break\n",
    "\n",
    "        if valid_subset:\n",
    "            max_size = max_subset(nums, target, new_subset, i + 1, max_size)\n",
    "\n",
    "    return max_size\n",
    "\n",
    "\n",
    "print(solution([1, 7, 2, 4], 3))  # Output: 3\n",
    "print(solution([1, 2, 3, 4, 5, 6], 3))  # Output: \n",
    "\n",
    "print(solution([1,2,4,7,5],3))\n",
    "\n",
    "\n"
   ]
  }
 ],
 "metadata": {
  "kernelspec": {
   "display_name": "Python 3",
   "language": "python",
   "name": "python3"
  },
  "language_info": {
   "codemirror_mode": {
    "name": "ipython",
    "version": 3
   },
   "file_extension": ".py",
   "mimetype": "text/x-python",
   "name": "python",
   "nbconvert_exporter": "python",
   "pygments_lexer": "ipython3",
   "version": "3.10.8"
  },
  "orig_nbformat": 4
 },
 "nbformat": 4,
 "nbformat_minor": 2
}
