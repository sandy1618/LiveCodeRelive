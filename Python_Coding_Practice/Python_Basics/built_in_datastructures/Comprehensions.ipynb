{
 "cells": [
  {
   "cell_type": "markdown",
   "metadata": {},
   "source": [
    "#Dictionary Comprehensions\n"
   ]
  },
  {
   "cell_type": "code",
   "execution_count": 3,
   "metadata": {},
   "outputs": [
    {
     "name": "stdout",
     "output_type": "stream",
     "text": [
      "{'Gujarat': 'Gandhinagar', 'Maharashtra': 'Mumbai', 'Rajasthan': 'Jaipur'}\n"
     ]
    }
   ],
   "source": [
    "state = ['Gujarat', 'Maharashtra', 'Rajasthan'] \n",
    "capital = ['Gandhinagar', 'Mumbai', 'Jaipur']\n",
    "dict_1={key:value for (key,value) in zip(state,capital)}\n",
    "print(dict_1)"
   ]
  },
  {
   "cell_type": "code",
   "execution_count": 12,
   "metadata": {},
   "outputs": [
    {
     "name": "stdout",
     "output_type": "stream",
     "text": [
      "<class 'range'>\n"
     ]
    }
   ],
   "source": [
    "print(type(range(11)))"
   ]
  },
  {
   "cell_type": "markdown",
   "metadata": {},
   "source": [
    "Range is an **Iterable** that is an *range* object"
   ]
  },
  {
   "cell_type": "markdown",
   "metadata": {},
   "source": [
    "Simplest difference between sort() and sorted() is: sort() doesn't return any value while, sorted() returns an iterable list.\n",
    "\n"
   ]
  },
  {
   "cell_type": "markdown",
   "metadata": {},
   "source": [
    "Make a program, which generates a dictionary variable a = {\"January\":1, \"February\":2, \"May\":5} and prints keys of a sorted by value of the dictionary in descending order. In this time, use \"for\" function.\n",
    "\n",
    "Execution example\n",
    "$ p013.py\n",
    "May\n",
    "February\n",
    "January\n"
   ]
  },
  {
   "cell_type": "code",
   "execution_count": 15,
   "metadata": {},
   "outputs": [
    {
     "name": "stdout",
     "output_type": "stream",
     "text": [
      "May\n",
      "February\n",
      "January\n"
     ]
    },
    {
     "data": {
      "text/plain": [
       "[None, None, None]"
      ]
     },
     "execution_count": 15,
     "metadata": {},
     "output_type": "execute_result"
    }
   ],
   "source": [
    "a  = {\"January\":1, \"February\":2, \"May\":5}\n",
    "# b = [(\"May\",1), (\"Feb\",2), (\"Jan\",1)]\n",
    "#need to print keys of a sorted by value of dictionary in descending ordre\n",
    "\n",
    "\n",
    "# print(a.values)\n",
    "# sorted_value=sorted(a.values(), reverse=True)\n",
    "# print(sorted_value)\n",
    "# for val in sorted_value:\n",
    "# \tprint([x for x in a.items() if x[1] == val][0][0])\n",
    "\n",
    "# Method2\n",
    "sorted_value=sorted(a.items(),key=lambda x:x[1],reverse=True)\n",
    "\n",
    "[print(var[0]) for var in sorted_value]\n",
    "# print(\"\\n\".join([var[0] for var in sorted_value]))\t\n"
   ]
  },
  {
   "cell_type": "code",
   "execution_count": 29,
   "metadata": {},
   "outputs": [
    {
     "name": "stdout",
     "output_type": "stream",
     "text": [
      "int\n"
     ]
    }
   ],
   "source": [
    "a=1\n",
    "if type(a)== int:\n",
    "    print(\"int\") \n",
    "# print(type(a))"
   ]
  },
  {
   "cell_type": "markdown",
   "metadata": {},
   "source": [
    "### Using list comprehension to flatten a 2D array. "
   ]
  },
  {
   "cell_type": "code",
   "execution_count": 3,
   "metadata": {},
   "outputs": [
    {
     "name": "stdout",
     "output_type": "stream",
     "text": [
      "l: [1, 2, 3, 4, 5, 6, 7, 8, 9]\n",
      "flattened_list: [1, 2, 3, 4, 5, 6, 7, 8, 9]\n"
     ]
    }
   ],
   "source": [
    "nested_lists = [[1, 2, 3], [4, 5, 6], [7, 8, 9]]\n",
    "l=[]\n",
    "for sublist in nested_lists:\n",
    "    for item in sublist:\n",
    "        l.append(item)\n",
    "\n",
    "\n",
    "flattened_list = [item for sublist in nested_lists for item in sublist]\n",
    "print(f'l: {l}')\n",
    "print(f'flattened_list: {l}')\n"
   ]
  }
 ],
 "metadata": {
  "kernelspec": {
   "display_name": "Python 3",
   "language": "python",
   "name": "python3"
  },
  "language_info": {
   "codemirror_mode": {
    "name": "ipython",
    "version": 3
   },
   "file_extension": ".py",
   "mimetype": "text/x-python",
   "name": "python",
   "nbconvert_exporter": "python",
   "pygments_lexer": "ipython3",
   "version": "3.10.8"
  }
 },
 "nbformat": 4,
 "nbformat_minor": 2
}
