{
 "cells": [
  {
   "cell_type": "markdown",
   "metadata": {},
   "source": [
    "# Prefix Sum Technique \n",
    "\n",
    "## Case1\n",
    "Sure, I'll provide you with a sample problem for Range Sum Queries along with a brief description on how to approach it using the prefix sum technique.\n",
    "\n",
    "###  Range Sum Queries\n",
    "\n",
    "**Problem Statement**:\n",
    "Given an array `arr` of `n` integers, and a series of queries, each query is represented by two integers `l` and `r` (1-based indices). For each query, your task is to find the sum of elements from index `l` to index `r`, both inclusive, in the array.\n",
    "\n",
    "**Example**:\n",
    "\n",
    "- Input:\n",
    "  - `arr = [3, 7, 2, 5, 8, 9]`\n",
    "  - Queries = `[(1, 3), (2, 5), (4, 6)]`\n",
    "\n",
    "- Output:\n",
    "  - For query `(1, 3)`, sum = `3 + 7 + 2 = 12`\n",
    "  - For query `(2, 5)`, sum = `7 + 2 + 5 + 8 = 22`\n",
    "  - For query `(4, 6)`, sum = `5 + 8 + 9 = 22`\n",
    "\n"
   ]
  },
  {
   "cell_type": "code",
   "execution_count": null,
   "metadata": {},
   "outputs": [],
   "source": [
    "def range_sum(arr,queries):\n",
    "    # Finding the cumulative sum of arry \n",
    "    n_arr = []\n",
    "    running_sum = 0\n",
    "    for elem in arr:\n",
    "        running_sum += elem\n",
    "        n_arr.append(running_sum)\n",
    "    # Based on queries returning the sum within range in queries. \n",
    "    result = []\n",
    "    n = len(queries)\n",
    "    for i in range(n):\n",
    "        start = queries[i][0]\n",
    "        end = queries[i][1]\n",
    "        result.append(n_arr[end]-)"
   ]
  },
  {
   "cell_type": "code",
   "execution_count": 1,
   "metadata": {},
   "outputs": [
    {
     "data": {
      "text/plain": [
       "[0, 3, 10, 12, 17, 25, 34]"
      ]
     },
     "execution_count": 1,
     "metadata": {},
     "output_type": "execute_result"
    }
   ],
   "source": [
    "def compute_prefix_sum(arr):\n",
    "    prefix_sum = [0] * (len(arr) + 1)\n",
    "    for i in range(1, len(arr) + 1):\n",
    "        prefix_sum[i] = prefix_sum[i - 1] + arr[i - 1]\n",
    "    return prefix_sum\n",
    "\n",
    "def range_sum_query(prefix_sum, l, r):\n",
    "    # Adjusting for 1-based indexing in queries\n",
    "    return prefix_sum[r] - prefix_sum[l - 1]\n",
    "\n",
    "# Example array and queries\n",
    "arr = [3, 7, 2, 5, 8, 9]\n",
    "queries = [(1, 3), (2, 5), (4, 6)]\n",
    "\n",
    "# Compute prefix sum array\n",
    "prefix_sum = compute_prefix_sum(arr)\n",
    "\n",
    "# # Process queries\n",
    "# query_results = [range_sum_query(prefix_sum, l, r) for l, r in queries]\n",
    "# query_results\n",
    "prefix_sum\n"
   ]
  },
  {
   "cell_type": "markdown",
   "metadata": {},
   "source": [
    "**Approach**:\n",
    "\n",
    "1. **Compute Prefix Sum**: First, compute a prefix sum array `prefixSum` where `prefixSum[i]` is the sum of the first `i` elements of `arr`.\n",
    "\n",
    "2. **Answer Queries**: For each query `(l, r)`, calculate the sum as `prefixSum[r] - prefixSum[l - 1]`. Note that since the query uses 1-based indexing, you might need to adjust the indices accordingly in your implementation.\n",
    "\n",
    "3. **Edge Case**: If `l` is 1, then the sum is just `prefixSum[r]` since there are no elements before the first index.\n",
    "\n",
    "**Task**: Write a function to implement the above approach and solve the provided queries.\n",
    "\n",
    "This problem is a classic application of the prefix sum technique and is great for understanding how cumulative sums can be efficiently used to calculate range sums."
   ]
  },
  {
   "cell_type": "markdown",
   "metadata": {},
   "source": [
    "## Case2\n",
    "###  Update Queries on a Range\n",
    "\n",
    "**Problem Statement**:\n",
    "You are given an initially empty array of size `n`, and a series of update operations. Each operation is represented by three integers `l`, `r`, and `val`, meaning you should add `val` to all elements in the array from index `l` to `r` (inclusive, 0-based index). Your task is to compute the final state of the array after performing all update operations.\n",
    "\n",
    "\n",
    "### Sample Input:\n",
    "\n",
    "1. Size of the array (`n`): `5`\n",
    "2. Update Operations (each operation is a tuple of `(l, r, val)`):\n",
    "   - `(1, 3, 2)` - Add `2` to all elements from index 1 to 3.\n",
    "   - `(2, 4, 3)` - Add `3` to all elements from index 2 to 4.\n",
    "   - `(0, 2, 1)` - Add `1` to all elements from index 0 to 2.\n",
    "\n",
    "### Sample Output:\n",
    "\n",
    "- The final array after applying all update operations.\n",
    "\n",
    "### Example Walkthrough:\n",
    "\n",
    "1. **Initial Array**: `[0, 0, 0, 0, 0]`\n",
    "2. **After Operation (1, 3, 2)**: `[0, 2, 2, 2, 0]` - Add 2 to indices 1, 2, and 3.\n",
    "3. **After Operation (2, 4, 3)**: `[0, 2, 5, 5, 3]` - Add 3 to indices 2, 3, and 4.\n",
    "4. **After Operation (0, 2, 1)**: `[1, 3, 6, 5, 3]` - Add 1 to indices 0, 1, and 2.\n",
    "\n",
    "### Expected Final Output:\n",
    "\n",
    "- The array `[1, 3, 6, 5, 3]`.\n",
    "\n",
    "You can implement the function to apply these update operations and validate it with the provided sample input and output. This example clearly demonstrates how the difference array technique is used to efficiently apply range update operations on an array.\n"
   ]
  },
  {
   "cell_type": "code",
   "execution_count": 3,
   "metadata": {},
   "outputs": [
    {
     "name": "stdout",
     "output_type": "stream",
     "text": [
      "[1, 3, 6, 5, 3]\n"
     ]
    }
   ],
   "source": [
    "def applyRangeQuery(arr,queries):\n",
    "    n = len(arr)\n",
    "    final_arr = [0]*n\n",
    "    m = len(queries)\n",
    "    for i in range(m):\n",
    "        start = queries[i][0]\n",
    "        end = queries[i][1]\n",
    "        add = queries[i][2]\n",
    "        final_arr[start] = final_arr[start]+add\n",
    "        if end + 1 < n : \n",
    "         final_arr[end + 1] = final_arr[end+1] - add\n",
    "    running_sum = 0 \n",
    "    for i in range(n):       \n",
    "       final_arr[i] = final_arr[i]+running_sum\n",
    "       running_sum = final_arr[i]\n",
    "\n",
    "    return final_arr\n",
    "arr = [0, 0, 0, 0, 0]\n",
    "query =[[1,3,2],[2,4,3],[0,2,1]]\n",
    "print(applyRangeQuery(arr,query))"
   ]
  },
  {
   "cell_type": "markdown",
   "metadata": {},
   "source": [
    "**Approach**:\n",
    "1. **Initialize an Array**: Start with an array `arr` of length `n` with all elements initialized to 0.\n",
    "\n",
    "2. **Apply Each Update Operation**:\n",
    "   - For each operation `(l, r, val)`, increment `arr[l]` by `val` and decrement `arr[r + 1]` by `val` (if `r + 1 < n`).\n",
    "\n",
    "3. **Compute the Final Array**:\n",
    "   - Iterate through the array, applying a running sum to transform the difference array back to the final array.\n",
    "\n",
    "\n",
    "This problem is a great application of the difference array technique, where you efficiently apply multiple range update operations and then reconstruct the final array. This approach avoids the need to explicitly add `val` to each element within the range `[l, r]` for every operation, which would be less efficient."
   ]
  },
  {
   "cell_type": "markdown",
   "metadata": {},
   "source": [
    "## Case 3: Counting the Number of Zero-Sum Subarrays\n",
    "\n",
    "**Problem Statement**:\n",
    "Given an array of integers, you need to find and count the number of subarrays that have a sum equal to zero.\n",
    "\n",
    "**Example**:\n",
    "\n",
    "- Input:\n",
    "  - `arr = [3, 4, -7, 3, 1, 3, -4, -2, -2]`\n",
    "\n",
    "- Output:\n",
    "  - The number of subarrays with a sum of zero.\n",
    "\n",
    "\n",
    "### Sample Input and Expected Output:\n",
    "\n",
    "- **Input**: `arr = [3, 4, -7, 3, 1, 3, -4, -2, -2]`\n",
    "- **Expected Output**: The function should return `4`.\n",
    "\n",
    "### Explanation:\n",
    "\n",
    "In the given array, there are four subarrays that sum to zero:\n",
    "- `[-7, 3, 4]`\n",
    "- `[3, -4]`\n",
    "- `[-4, -2, 2, 4]`\n",
    "- `[-2, -2, 3, 1]`\n",
    "\n",
    "You can implement the function to count these zero-sum subarrays and test it with the provided input to check if it returns the expected output. This problem demonstrates the use of cumulative sums and hashing to efficiently solve problems involving subarray sums."
   ]
  },
  {
   "cell_type": "code",
   "execution_count": null,
   "metadata": {},
   "outputs": [],
   "source": []
  },
  {
   "cell_type": "markdown",
   "metadata": {},
   "source": [
    "**Approach**:\n",
    "1. **Initialize Variables**: Create a hash map to store the frequency of cumulative sums and a variable to keep track of the count of zero-sum subarrays.\n",
    "2. **Iterate and Update Counts**: As you iterate through the array, update the cumulative sum. If the cumulative sum is zero or it has been seen before (exists in the hash map), it indicates the presence of a zero-sum subarray.\n",
    "3. **Update Hash Map**: Update the frequency of the cumulative sum in the hash map after each iteration.\n",
    "\n",
    "\n",
    "### Walkthrough \n",
    "Sure! Let's walk through the example step-by-step to understand how to count the number of zero-sum subarrays.\n",
    "\n",
    "### Given Array:\n",
    "`arr = [3, 4, -7, 3, 1, 3, -4, -2, -2]`\n",
    "\n",
    "### Approach:\n",
    "We will use a hash map to keep track of the cumulative sums and their frequencies. A cumulative sum is the sum of all the elements from the start of the array up to the current element.\n",
    "\n",
    "### Process:\n",
    "\n",
    "1. **Initialize**: \n",
    "   - Cumulative sum (`cum_sum`) = 0\n",
    "   - Hash map (`hash_map`) = `{0: 1}` (We start with 0:1 because a cumulative sum of 0 is initially present once, representing no elements summed)\n",
    "   - Zero-sum subarrays count (`count`) = 0\n",
    "\n",
    "2. **Iterate through the array**:\n",
    "   - For each element, add it to `cum_sum`.\n",
    "   - If `cum_sum` is 0 or if `cum_sum` is already in the `hash_map`, it indicates a zero-sum subarray.\n",
    "   - Update `hash_map` with the frequency of `cum_sum`.\n",
    "   - Increment `count` based on the frequency of `cum_sum` found in `hash_map`.\n",
    "\n",
    "3. **Example Walkthrough**:\n",
    "\n",
    "   - Start: `cum_sum = 0`, `hash_map = {0: 1}`, `count = 0`\n",
    "   - Element 3: `cum_sum = 3`, `hash_map = {0: 1, 3: 1}`, `count = 0`\n",
    "   - Element 4: `cum_sum = 7`, `hash_map = {0: 1, 3: 1, 7: 1}`, `count = 0`\n",
    "   - Element -7: `cum_sum = 0`, `hash_map = {0: 2, 3: 1, 7: 1}`, `count = 1` (found a zero-sum subarray `[3, 4, -7]`)\n",
    "   - Element 3: `cum_sum = 3`, `hash_map = {0: 2, 3: 2, 7: 1}`, `count = 2` (found a zero-sum subarray `[3]`)\n",
    "   - Element 1: `cum_sum = 4`, `hash_map = {0: 2, 3: 2, 7: 1, 4: 1}`, `count = 2`\n",
    "   - Element 3: `cum_sum = 7`, `hash_map = {0: 2, 3: 2, 7: 2, 4: 1}`, `count = 3` \n",
    "    count = 3\n",
    "   - Element -4: `cum_sum = 3`, `hash_map = {0: 2, 3: 3, 7: 2, 4: 1}`, `count = 4` (found a zero-sum subarray `[3, -4]`)\n",
    "   - Element -2: `cum_sum = 1`, `hash_map = {0: 2, 3: 3, 7: 2, 4: 1, 1: 1}`, `count = 4`\n",
    "   - Element -2: `cum_sum = -1`, `hash_map = {0: 2, 3: 3, 7: 2, 4: 1, 1: 1, -1: 1}`, `count = 4`\n",
    "\n",
    "### Result:\n",
    "The final count is `4`. \n",
    "\n",
    "### Intuitive Meaning \n",
    "**Cumulative Sum:**\n",
    "A cumulative sum at any point in the array is the sum of all elements from the start of the array up to that point.\n",
    "When we say cum_sum at index i, we mean the sum of all elements from index 0 to index i.\n",
    "\n",
    "**Zero-Sum Subarray Identification:**\n",
    "If at any point the cum_sum becomes 0, it means that the sum of all elements from the start up to this point is 0. Therefore, the subarray from the start to this point sums to zero.\n",
    "If we encounter a cum_sum that we have seen before, it indicates a zero-sum subarray. This is because the sum of elements between these two points must be zero to keep the cumulative sum unchanged."
   ]
  },
  {
   "cell_type": "code",
   "execution_count": null,
   "metadata": {},
   "outputs": [],
   "source": []
  }
 ],
 "metadata": {
  "kernelspec": {
   "display_name": "learnpython",
   "language": "python",
   "name": "python3"
  },
  "language_info": {
   "codemirror_mode": {
    "name": "ipython",
    "version": 3
   },
   "file_extension": ".py",
   "mimetype": "text/x-python",
   "name": "python",
   "nbconvert_exporter": "python",
   "pygments_lexer": "ipython3",
   "version": "3.10.13"
  },
  "orig_nbformat": 4
 },
 "nbformat": 4,
 "nbformat_minor": 2
}
