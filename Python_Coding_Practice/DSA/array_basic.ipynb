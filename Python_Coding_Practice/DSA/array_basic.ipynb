{
 "cells": [
  {
   "cell_type": "code",
   "execution_count": 1,
   "metadata": {},
   "outputs": [
    {
     "data": {
      "text/plain": [
       "30"
      ]
     },
     "execution_count": 1,
     "metadata": {},
     "output_type": "execute_result"
    }
   ],
   "source": [
    "class Solution:\n",
    "    def findLargestElement(self, nums):\n",
    "\n",
    "        return max(nums)\n",
    "nums=[1,20,-10,30]\n",
    "obj = Solution()\n",
    "\n",
    "obj.findLargestElement(nums)"
   ]
  },
  {
   "cell_type": "code",
   "execution_count": 2,
   "metadata": {},
   "outputs": [
    {
     "data": {
      "text/plain": [
       "3"
      ]
     },
     "execution_count": 2,
     "metadata": {},
     "output_type": "execute_result"
    }
   ],
   "source": [
    "max(2,3)"
   ]
  },
  {
   "cell_type": "code",
   "execution_count": 4,
   "metadata": {},
   "outputs": [
    {
     "name": "stdout",
     "output_type": "stream",
     "text": [
      "6\n"
     ]
    }
   ],
   "source": [
    "\n",
    "nums = [1,1,1,1]\n",
    "counter = 0\n",
    "for i in range(len(nums)):\n",
    "    for j in range(i+1, len(nums)): \n",
    "        if nums[i] == nums[j]:\n",
    "            counter+=1\n",
    "\n",
    "print(counter) "
   ]
  },
  {
   "cell_type": "code",
   "execution_count": 83,
   "metadata": {},
   "outputs": [],
   "source": [
    "import timeit\n",
    "\n",
    "def timer_decorator(func):\n",
    "    def wrapper(*args, **kwargs):\n",
    "        execution_times = timeit.repeat(func, repeat=1000, number=1)\n",
    "        average_execution_time = sum(execution_times) / len(execution_times)\n",
    "        print(\"Average Execution time:\", average_execution_time, \"seconds\")\n",
    "    \n",
    "    return wrapper\n",
    "\n",
    "\n",
    "import timeit\n",
    "\n",
    "def timer_decorator_print(func):\n",
    "    def wrapper(*args, **kwargs):\n",
    "        execution_times = timeit.repeat(func, repeat=1000, number=1)\n",
    "        average_execution_time = sum(execution_times) / len(execution_times)\n",
    "        print(\"Average Execution time:\", average_execution_time, \"seconds\")\n",
    "        return func(*args, **kwargs)\n",
    "    \n",
    "    return wrapper\n"
   ]
  },
  {
   "cell_type": "code",
   "execution_count": 90,
   "metadata": {},
   "outputs": [
    {
     "name": "stdout",
     "output_type": "stream",
     "text": [
      "Average Execution time: 1.7987449828069657e-06 seconds\n",
      "148519\n"
     ]
    }
   ],
   "source": [
    "@timer_decorator_print\n",
    "def max_multiplev1():\n",
    "    nums = [1,2,45,6,3,7,3,4,5,3,6,2,7,344,53,4,34,56,3,434,43,43,4,5,6,7,8,9,0,5,4,3,3,3]\n",
    "    nums.sort()\n",
    "    return((nums[-1] - 1) * (nums[-2] - 1))\n",
    "\n",
    "print(max_multiplev1())"
   ]
  },
  {
   "cell_type": "code",
   "execution_count": 93,
   "metadata": {},
   "outputs": [
    {
     "name": "stdout",
     "output_type": "stream",
     "text": [
      "Average Execution time: 7.634043016878422e-06 seconds\n",
      "148519\n"
     ]
    }
   ],
   "source": [
    "@timer_decorator_print\n",
    "def max_multiplev2():\n",
    "    # Optimization 1 . \n",
    "    nums = [1, 2, 45, 6, 3, 7, 3, 4, 5, 3, 6, 2, 7, 344, 53, 4, 34, 56, 3, 434, 43, 43, 4, 5, 6, 7, 8, 9, 0, 5, 4, 3, 3, 3]\n",
    "\n",
    "    if nums[0] < nums[1]:\n",
    "        f = nums[1]\n",
    "        s = nums[0]\n",
    "    else: \n",
    "        f = nums[0]\n",
    "        s = nums[1]\n",
    "\n",
    "    for i in range(2, len(nums)):\n",
    "        if f < nums[i]:\n",
    "            s = f\n",
    "            f = nums[i]\n",
    "        elif s < nums[i]:\n",
    "            s = nums[i]\n",
    "    return (f-1)*(s-1)\n",
    "\n",
    "print(max_multiplev2())"
   ]
  },
  {
   "attachments": {},
   "cell_type": "markdown",
   "metadata": {},
   "source": [
    "The first code snippet is faster than the second code snippet because it utilizes the built-in sort() method of the list to sort the numbers in ascending order, which has an average time complexity of O(n log n) for Python's built-in sorting algorithm (typically Timsort).\n",
    "\n",
    "In contrast, the second code snippet manually finds the two largest elements in the list using a loop and conditional statements. This approach requires iterating through the entire list and comparing elements, resulting in a time complexity of O(n)."
   ]
  },
  {
   "attachments": {},
   "cell_type": "markdown",
   "metadata": {},
   "source": [
    "## Doubt \n",
    "Why the second is still slower altough its O(n) ? "
   ]
  },
  {
   "cell_type": "code",
   "execution_count": null,
   "metadata": {},
   "outputs": [],
   "source": []
  }
 ],
 "metadata": {
  "kernelspec": {
   "display_name": "learnpython",
   "language": "python",
   "name": "python3"
  },
  "language_info": {
   "codemirror_mode": {
    "name": "ipython",
    "version": 3
   },
   "file_extension": ".py",
   "mimetype": "text/x-python",
   "name": "python",
   "nbconvert_exporter": "python",
   "pygments_lexer": "ipython3",
   "version": "3.7.0"
  },
  "orig_nbformat": 4
 },
 "nbformat": 4,
 "nbformat_minor": 2
}
