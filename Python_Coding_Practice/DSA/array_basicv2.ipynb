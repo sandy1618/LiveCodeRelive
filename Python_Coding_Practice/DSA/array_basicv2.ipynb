{
 "cells": [
  {
   "cell_type": "markdown",
   "metadata": {},
   "source": [
    "# Array Rotation \n",
    "\n",
    "Input : [1,2,3,4,5]\n",
    "\n",
    "Left roations : 2 \n",
    "\n",
    "Ouput : [3, 4, 5, 1, 2]"
   ]
  },
  {
   "cell_type": "code",
   "execution_count": 6,
   "metadata": {},
   "outputs": [
    {
     "name": "stdout",
     "output_type": "stream",
     "text": [
      "[3, 4, 5, 1, 2]\n"
     ]
    }
   ],
   "source": [
    "a = [1,2,3,4,5]\n",
    "\n",
    "def rotLeft(a,d):\n",
    "    n = len(a)\n",
    "    b = [0]*n\n",
    "    j = 0\n",
    "\n",
    "    while j<n:\n",
    "        i = d % n\n",
    "        \n",
    "        b[j]=a[i]\n",
    "        \n",
    "        d+=1\n",
    "        j+=1\n",
    "        \n",
    "    return b\n",
    "print(rotLeft(a,2))\n",
    "\n",
    "#Time  : O(n)\n",
    "#Space : O(n)"
   ]
  },
  {
   "cell_type": "code",
   "execution_count": 7,
   "metadata": {},
   "outputs": [
    {
     "name": "stdout",
     "output_type": "stream",
     "text": [
      "[3, 4, 5, 1, 2]\n"
     ]
    }
   ],
   "source": [
    "def rotLeft(a, d):\n",
    "    n = len(a)\n",
    "    d = d % n  # Ensure d is within the bounds of the array length\n",
    "    return a[d:] + a[:d]\n",
    "print(rotLeft(a,2))\n",
    "\n",
    "#Time  : O(n)\n",
    "#Space : O(n)"
   ]
  },
  {
   "cell_type": "markdown",
   "metadata": {},
   "source": [
    "For the revised `rotLeft` function using slicing, the time and space complexity can be analyzed as follows:\n",
    "\n",
    "1. **Calculating `n` and `d`**: The operations to calculate the length of `a` (`len(a)`) and to update `d` (`d = d % n`) are constant time operations, \\( O(1) \\).\n",
    "\n",
    "2. **Slicing and Concatenating**: \n",
    "    - The slicing operation `a[d:]` and `a[:d]` each take \\( O(n) \\) time in the worst case, as they may need to copy up to `n` elements (in the worst case, when `d` is \\( 0 \\) or \\( n \\)).\n",
    "    - The concatenation `a[d:] + a[:d]` also takes \\( O(n) \\) time, as it creates a new list from the two slices.\n",
    "\n",
    "Hence, the time complexity of the slicing and concatenation operations combined is \\( O(n) \\).\n",
    "\n",
    "For space complexity:\n",
    "- The new list created by the concatenation `a[d:] + a[:d]` is the significant factor. This list is the same size as the original list `a`, so it requires \\( O(n) \\) space.\n",
    "\n",
    "In summary:\n",
    "- Time Complexity: \\( O(n) \\) \n",
    "- Space Complexity: \\( O(n) \\)\n",
    "\n",
    "It's important to note that while this approach is more concise and perhaps more readable, its complexity characteristics are similar to your original implementation in terms of big O notation. Both have linear time and space complexity."
   ]
  },
  {
   "cell_type": "markdown",
   "metadata": {},
   "source": []
  },
  {
   "cell_type": "code",
   "execution_count": 1,
   "metadata": {},
   "outputs": [
    {
     "name": "stdout",
     "output_type": "stream",
     "text": [
      "3\n"
     ]
    }
   ],
   "source": [
    "a = [1 ,2, 4,6,5,3]\n",
    "def minimumBribes(q):\n",
    "    # Write your code here\n",
    "    min_n = 1\n",
    "    \n",
    "    # min_n = min(q)\n",
    "    n = len(q)\n",
    "    ideal_n = min_n\n",
    "    bribe_num = 0\n",
    "    for i in range(n):\n",
    "        d = q[i] - ideal_n\n",
    "        # conditions \n",
    "        if d >2:\n",
    "            print('Too chaotic')\n",
    "            return \n",
    "        if (d>0 and d<=2):\n",
    "            bribe_num=bribe_num+d\n",
    "\n",
    "           \n",
    "        ideal_n = ideal_n+1\n",
    "    print(bribe_num)\n",
    "    return\n",
    "minimumBribes(a)"
   ]
  },
  {
   "cell_type": "code",
   "execution_count": 2,
   "metadata": {},
   "outputs": [
    {
     "name": "stdout",
     "output_type": "stream",
     "text": [
      "4\n"
     ]
    }
   ],
   "source": [
    "def minimumBribes(q):\n",
    "    bribes = 0\n",
    "    for i in range(len(q)):\n",
    "        # Check if any person is more than two positions ahead of their initial position\n",
    "        if q[i] - (i + 1) > 2:\n",
    "            print('Too chaotic')\n",
    "            return\n",
    "\n",
    "minimumBribes(a)\n",
    "\n",
    "    print(bribes)\n",
    "\n",
    "minimumBribes(a)"
   ]
  },
  {
   "cell_type": "markdown",
   "metadata": {},
   "source": [
    "## Minimum Swaps "
   ]
  },
  {
   "cell_type": "code",
   "execution_count": 1,
   "metadata": {},
   "outputs": [],
   "source": [
    "# Complete the minimumSwaps function below.\n",
    "def minimumSwaps(arr):\n",
    "    swaps = 0 \n",
    "    for i in range(len(arr)):\n",
    "        # if arr[i] != i+1, then get the index of i+1, calculate the swap \n",
    "        if arr[i] != i + 1 : \n",
    "            index = arr.index(i+1)\n",
    "            arr[i],arr[index] = arr[index],arr[i]\n",
    "            swaps+=1\n",
    "    return swaps\n"
   ]
  },
  {
   "cell_type": "code",
   "execution_count": 2,
   "metadata": {},
   "outputs": [
    {
     "name": "stdout",
     "output_type": "stream",
     "text": [
      "5\n"
     ]
    }
   ],
   "source": [
    "a = [7,1,3,2,4,5,6]\n",
    "print(minimumSwaps(a))"
   ]
  },
  {
   "cell_type": "code",
   "execution_count": 4,
   "metadata": {},
   "outputs": [
    {
     "name": "stdout",
     "output_type": "stream",
     "text": [
      "5\n"
     ]
    }
   ],
   "source": [
    "def minimumSwaps(arr):\n",
    "    swaps = 0\n",
    "    for i in range(len(arr)):\n",
    "        if arr[i] != i + 1:\n",
    "            # Swap the element at index i with the element that should be in its position\n",
    "            temp = arr[i]\n",
    "            arr[i], arr[temp - 1] = arr[temp - 1], arr[i]\n",
    "            swaps += 1\n",
    "    return swaps\n",
    "a = [7,1,3,2,4,5,6]\n",
    "print(minimumSwaps(a))"
   ]
  },
  {
   "cell_type": "markdown",
   "metadata": {},
   "source": [
    "To solve this problem, we can leverage the fact that the array contains consecutive integers without duplicates, ranging from 1 to \\( n \\). This property allows us to efficiently determine the correct position for each element.\n",
    "\n",
    "The idea is to iterate through the array, and for each position, if the element is not in its correct position (i.e., the element at index `i` is not `i + 1`), we swap it with the element that should be in its current position. We continue this process until the array is sorted.\n",
    "\n",
    "The time complexity of this algorithm is \\( O(n) \\). Although there's a nested loop, each element is moved at most once to its correct position, so the total number of operations is proportional to the number of elements in the array. The space complexity is \\( O(1) \\) as the sorting is done in-place without using additional space.\n",
    "\n",
    "Let's use the array `[7, 1, 3, 2, 4, 5, 6]` as an example and walk through the first few iterations.\n",
    "\n",
    "**Initial Array:**\n",
    "`[7, 1, 3, 2, 4, 5, 6]`\n",
    "\n",
    "**Iteration 1:**\n",
    "- `i = 0`, `arr[i] = 7`\n",
    "- The correct position for the number `7` is at index `7 - 1 = 6`.\n",
    "- We swap the elements at index `0` and index `6`.\n",
    "- The array becomes `[6, 1, 3, 2, 4, 5, 7]`.\n",
    "- Increase `swaps` by 1.\n",
    "\n",
    "\n",
    "Greedy Algorithms: The solution to this problem can be seen as using a greedy approach. In each step, the algorithm makes a locally optimal choice (swap the element to its correct position) with the aim of reducing the total distance each element is from its sorted position. Greedy algorithms are used in optimization problems where the optimal solution can be built one step at a time."
   ]
  },
  {
   "cell_type": "markdown",
   "metadata": {},
   "source": []
  },
  {
   "cell_type": "markdown",
   "metadata": {},
   "source": [
    "### Solution 1 (Not optimized : Brute Force)"
   ]
  },
  {
   "cell_type": "code",
   "execution_count": 25,
   "metadata": {},
   "outputs": [],
   "source": [
    "def arrayManipulation(n, queries):\n",
    "    # Write your code here\n",
    "    a = [0]*n\n",
    "    m=len(queries)\n",
    "    for i in range(m):\n",
    "        start = queries[i][0]\n",
    "        end = queries[i][1]\n",
    "        add = queries[i][2]\n",
    "        for j in range(start-1,end):\n",
    "            a[j]+=add\n",
    "    return max(a)"
   ]
  },
  {
   "cell_type": "code",
   "execution_count": 1,
   "metadata": {},
   "outputs": [],
   "source": [
    "n = 5\n",
    "queries = [[1,2,100],[2,5,100],[3,4,100]]\n",
    "print(arrayManipulation(n,queries))"
   ]
  },
  {
   "cell_type": "code",
   "execution_count": null,
   "metadata": {},
   "outputs": [],
   "source": [
    "def arrayManipulation(n, queries):\n",
    "    a = [0] * (n + 1)\n",
    "    for query in queries:\n",
    "        start, end, add = query\n",
    "        a[start - 1] += add\n",
    "        if end <= len(a) - 1:\n",
    "            a[end] -= add\n",
    "\n",
    "    max_value = 0\n",
    "    running_sum = 0\n",
    "    for i in range(n):\n",
    "        running_sum += a[i]\n",
    "        if running_sum > max_value:\n",
    "            max_value = running_sum\n",
    "\n",
    "    return max_value\n"
   ]
  },
  {
   "cell_type": "markdown",
   "metadata": {},
   "source": [
    "Absolutely! Let's walk through the optimized `arrayManipulation` function with an example to understand how it works.\n",
    "\n",
    "Suppose we have `n = 5` and the following `queries`:\n",
    "\n",
    "```\n",
    "[\n",
    "    [1, 2, 100],\n",
    "    [2, 5, 100],\n",
    "    [3, 4, 100]\n",
    "]\n",
    "```\n",
    "\n",
    "Each query is in the format `[start, end, add]`, meaning we add `add` to all elements from `start` to `end` (inclusive).\n",
    "\n",
    "Here's how the optimized algorithm processes these queries:\n",
    "\n",
    "1. **Initialize an Array**: \n",
    "   - Start with an array `a` of length `n + 1` filled with zeros: `[0, 0, 0, 0, 0, 0]`.\n",
    "\n",
    "2. **Process Each Query**:\n",
    "   - For the first query `[1, 2, 100]`, increment `a[0]` by `100` and decrement `a[2]` by `100`. \n",
    "     - Array becomes `[100, 0, -100, 0, 0, 0]`.\n",
    "   - For the second query `[2, 5, 100]`, increment `a[1]` by `100` and decrement `a[5]` by `100`.\n",
    "     - Array becomes `[100, 100, -100, 0, 0, -100]`.\n",
    "   - For the third query `[3, 4, 100]`, increment `a[2]` by `100` and decrement `a[4]` by `100`.\n",
    "     - Array becomes `[100, 100, 0, 0, -100, -100]`.\n",
    "\n",
    "3. **Calculate the Running Sum and Find the Maximum Value**:\n",
    "   - Initialize `max_value` to `0` and `running_sum` to `0`.\n",
    "   - Iterate over the array, updating `running_sum` and checking if it exceeds `max_value`.\n",
    "     - After the first element, `running_sum = 100`, and `max_value = 100`.\n",
    "     - After the second element, `running_sum = 200`, and `max_value = 200`.\n",
    "     - After the third element, `running_sum = 200`, `max_value` remains `200`.\n",
    "     - After the fourth element, `running_sum = 200`, `max_value` remains `200`.\n",
    "     - After the fifth element, `running_sum = 100`, `max_value` remains `200`.\n",
    "\n",
    "4. **Result**:\n",
    "   - The maximum value in the array after all manipulations is `200`.\n",
    "\n",
    "The key idea here is that instead of adding `add` to each element in the range for every query, we mark the start and end of the range with `add` and `-add`, respectively. Then, a single pass through the array with a running sum gives us the final values. This approach is much more efficient, especially with a large number of queries or a large array size."
   ]
  },
  {
   "cell_type": "code",
   "execution_count": 22,
   "metadata": {},
   "outputs": [
    {
     "name": "stdout",
     "output_type": "stream",
     "text": [
      "0\n",
      "1\n"
     ]
    }
   ],
   "source": [
    "for j in range(0,1+1):\n",
    "    print(j)"
   ]
  },
  {
   "cell_type": "code",
   "execution_count": null,
   "metadata": {},
   "outputs": [],
   "source": []
  }
 ],
 "metadata": {
  "kernelspec": {
   "display_name": "learnpython",
   "language": "python",
   "name": "python3"
  },
  "language_info": {
   "codemirror_mode": {
    "name": "ipython",
    "version": 3
   },
   "file_extension": ".py",
   "mimetype": "text/x-python",
   "name": "python",
   "nbconvert_exporter": "python",
   "pygments_lexer": "ipython3",
   "version": "3.10.13"
  },
  "orig_nbformat": 4
 },
 "nbformat": 4,
 "nbformat_minor": 2
}
