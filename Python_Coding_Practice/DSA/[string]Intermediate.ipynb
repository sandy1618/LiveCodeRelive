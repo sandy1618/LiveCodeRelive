{
 "cells": [
  {
   "cell_type": "markdown",
   "metadata": {},
   "source": [
    "# Substrings "
   ]
  },
  {
   "cell_type": "markdown",
   "metadata": {},
   "source": [
    "substrCount is intended to count the number of special substrings in a given string s. A special substring in this context seems to be defined as either:\n",
    "\n",
    "A substring that contains the same character (like \"aaa\").\n",
    "A substring where all characters except the middle one are the same (like \"aba\")."
   ]
  },
  {
   "cell_type": "code",
   "execution_count": 13,
   "metadata": {},
   "outputs": [
    {
     "name": "stdout",
     "output_type": "stream",
     "text": [
      "4\n"
     ]
    }
   ],
   "source": [
    "def substrCount(n,s):\n",
    "    window_size = 1 \n",
    "    subs_lst = []\n",
    "    # getting all substring including main string. \n",
    "    while window_size <= n: \n",
    "        for i in range(0, n-window_size+1):\n",
    "            subs_lst.append(s[i:i+window_size])\n",
    "        window_size+=1\n",
    "\n",
    "    special_str = 0\n",
    "    for sub_str in subs_lst:\n",
    "        set1 = set(sub_str)\n",
    "        if len(set1) <=1 :\n",
    "            special_str+=1\n",
    "        if len(set1) ==2 :\n",
    "            if len(sub_str) % 2 == 1:\n",
    "                new_str_lst = list(sub_str)\n",
    "                i = (len(new_str_lst)-1)//2\n",
    "                new_str = new_str_lst.pop(i)\n",
    "                s2=set(new_str)\n",
    "                if len(s2)<=1:\n",
    "                    special_str+=1\n",
    "\n",
    "    return special_str\n",
    "\n",
    "s = 'sand'\n",
    "print(substrCount(4,s))"
   ]
  },
  {
   "cell_type": "code",
   "execution_count": 4,
   "metadata": {},
   "outputs": [
    {
     "data": {
      "text/plain": [
       "'s'"
      ]
     },
     "execution_count": 4,
     "metadata": {},
     "output_type": "execute_result"
    }
   ],
   "source": [
    "s[0:1]"
   ]
  },
  {
   "cell_type": "code",
   "execution_count": null,
   "metadata": {},
   "outputs": [],
   "source": []
  }
 ],
 "metadata": {
  "kernelspec": {
   "display_name": "liveenv",
   "language": "python",
   "name": "python3"
  },
  "language_info": {
   "codemirror_mode": {
    "name": "ipython",
    "version": 3
   },
   "file_extension": ".py",
   "mimetype": "text/x-python",
   "name": "python",
   "nbconvert_exporter": "python",
   "pygments_lexer": "ipython3",
   "version": "3.11.6"
  }
 },
 "nbformat": 4,
 "nbformat_minor": 2
}
