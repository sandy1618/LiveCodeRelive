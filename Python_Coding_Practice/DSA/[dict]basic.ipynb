{
 "cells": [
  {
   "cell_type": "markdown",
   "metadata": {},
   "source": [
    "# HackerRank Interview Prep. Dictionary \n",
    "## Hash Tables: Ransom Note"
   ]
  },
  {
   "cell_type": "code",
   "execution_count": 8,
   "metadata": {},
   "outputs": [
    {
     "name": "stdout",
     "output_type": "stream",
     "text": [
      "Yes\n"
     ]
    }
   ],
   "source": [
    "\n",
    "def checkMagazine(magazine, note):\n",
    "    # Write your code here\n",
    "    #Create 2 dictonaries and maintain their \n",
    "    mag_dict = dict()\n",
    "    note_dict = dict()\n",
    "    for mag_word in magazine: \n",
    "        mag_dict[mag_word] = mag_dict.get(mag_word,0) + 1\n",
    "    for note_word in note:\n",
    "        note_dict[note_word] = note_dict.get(note_word,0) + 1 \n",
    "    \n",
    "    return checkDictSubset(note_dict,mag_dict)\n",
    "\n",
    "def checkDictSubset(dict1, dict2): \n",
    "    for key in dict1:\n",
    "        if dict2.get(key,-1) == -1: \n",
    "            return \"No\"\n",
    "        if dict1.get(key) > dict2.get(key):\n",
    "            return \"No\"\n",
    "    return \"Yes\"\n",
    "\n",
    "m = \"two times three is not four\"\n",
    "n = \"two times  is four\"\n",
    "magazine = m.rstrip().split()\n",
    "note = n.rstrip().split()\n",
    "\n",
    "print(checkMagazine(magazine,note))"
   ]
  },
  {
   "cell_type": "markdown",
   "metadata": {},
   "source": [
    "## Two Strings "
   ]
  },
  {
   "cell_type": "code",
   "execution_count": null,
   "metadata": {},
   "outputs": [],
   "source": [
    "def twoStrings(s1, s2):\n",
    "    # Write your code hereb\n",
    "    a = set(s1)\n",
    "    b = set(s2)\n",
    "    if len(a.intersection(b)) > 0:\n",
    "        return \"Yes\"\n",
    "    else:\n",
    "        return \"No\"\n",
    "    "
   ]
  },
  {
   "cell_type": "markdown",
   "metadata": {},
   "source": [
    "## Substrings Anagrams (Sherlock & Anagram)"
   ]
  },
  {
   "cell_type": "code",
   "execution_count": 23,
   "metadata": {},
   "outputs": [
    {
     "name": "stdout",
     "output_type": "stream",
     "text": [
      "4\n"
     ]
    }
   ],
   "source": [
    "def sherlockAndAnagrams(s):\n",
    "    #get all substrings \n",
    "    substring_lst = getAllSubstrings(s)\n",
    "   \n",
    "    # for all substring, sort them \n",
    "    sorted_lst = [''.join(sorted(x)) for x in substring_lst]\n",
    "\n",
    "    # sorted_lst = list(map(sorted,substring_lst))\n",
    "\n",
    "    # make a distionary and count them. \n",
    "    lst_dict = dict()\n",
    "    for elem in sorted_lst:\n",
    "        lst_dict[elem] = lst_dict.get(elem,0) + 1\n",
    "    #if count > 1, then its anagram. \n",
    "    anagram_count=0\n",
    "    for key in lst_dict:\n",
    "        n = lst_dict[key] \n",
    "        c = (n*(n-1)) // 2\n",
    "        anagram_count += c\n",
    "    return anagram_count\n",
    "    \n",
    "\n",
    "def getAllSubstrings(s):\n",
    "    s_lst = list(s)\n",
    "    # substring_list = []\n",
    "    substring_list = s_lst\n",
    "    # list of len 2 \n",
    "    n = len(s_lst)\n",
    "    j = 1\n",
    "    while j <= n : \n",
    "        for i in range(n-j):\n",
    "            substring_list.append(\"\".join(s_lst[i:i+j+1]))\n",
    "        j+=1\n",
    "    return substring_list\n",
    "\n",
    "# print(sherlockAndAnagrams('abba'))\n"
   ]
  },
  {
   "cell_type": "markdown",
   "metadata": {},
   "source": [
    "**In the getAllSubstrings function:**\n",
    "\n",
    "You're appending substrings of length 1 twice. The initialization substring_list = s_lst already adds all characters as individual substrings. You don't need to add them again in the loop.\n",
    "\n",
    "__Efficiency:__\n",
    "\n",
    "Your approach is correct, but it can be more efficient. Instead of generating all substrings first and then sorting each one of them, you could use a dictionary to store sorted substrings directly as you generate them. This would slightly reduce the complexity and memory usage."
   ]
  },
  {
   "cell_type": "code",
   "execution_count": 24,
   "metadata": {},
   "outputs": [
    {
     "name": "stdout",
     "output_type": "stream",
     "text": [
      "4\n"
     ]
    }
   ],
   "source": [
    "def sherlockAndAnagrams(s):\n",
    "    # Dictionary to store counts of sorted substrings\n",
    "    substring_dict = {}\n",
    "\n",
    "    # Generate all possible substrings and count sorted versions\n",
    "    for start in range(len(s)):\n",
    "        for end in range(start + 1, len(s) + 1):\n",
    "            substring = s[start:end]\n",
    "            sorted_substring = ''.join(sorted(substring))\n",
    "            substring_dict[sorted_substring] = substring_dict.get(sorted_substring, 0) + 1\n",
    "\n",
    "    # Calculate the number of anagram pairs\n",
    "    anagram_count = 0\n",
    "    for count in substring_dict.values():\n",
    "        anagram_count += (count * (count - 1)) // 2  # nC2 = n*(n-1)/2\n",
    "\n",
    "    return anagram_count\n",
    "\n",
    "# Test the function\n",
    "print(sherlockAndAnagrams('abba'))"
   ]
  },
  {
   "cell_type": "code",
   "execution_count": 1,
   "metadata": {},
   "outputs": [
    {
     "name": "stdout",
     "output_type": "stream",
     "text": [
      "['s', 'a', 'n', 'd']\n"
     ]
    }
   ],
   "source": [
    "s = 'sand'\n",
    "print(list(s))"
   ]
  },
  {
   "cell_type": "markdown",
   "metadata": {},
   "source": [
    "## Count Triplets : Geometic Progression "
   ]
  },
  {
   "cell_type": "markdown",
   "metadata": {},
   "source": [
    "### Method1 : Brute Force. "
   ]
  },
  {
   "cell_type": "code",
   "execution_count": 3,
   "metadata": {},
   "outputs": [
    {
     "name": "stdout",
     "output_type": "stream",
     "text": [
      "2\n"
     ]
    }
   ],
   "source": [
    "def countTriplets(arr, r):\n",
    "    n = len(arr)\n",
    "    final_sum = 0\n",
    "    for i in range(n):\n",
    "        p=arr[i]\n",
    "        p_dict = dict()\n",
    "\n",
    "        #looping over the arr agian. \n",
    "        for j in range(i+1,n):\n",
    "            p_r = p*r\n",
    "            p_rr = p*r*r\n",
    "            if arr[j]== p_r:\n",
    "                for k in range(j+1,n):\n",
    "                    if arr[k]==p_rr:\n",
    "                        final_sum = final_sum+1\n",
    "\n",
    "    return final_sum\n",
    "\n",
    "arr = [1, 2, 2, 4]\n",
    "r = 2\n",
    "print(countTriplets(arr,r))\n"
   ]
  },
  {
   "cell_type": "markdown",
   "metadata": {},
   "source": [
    "Time Complexity: The time complexity of your function is O(n^3) because of the three nested loops (for i, j, and k).\n",
    "\n",
    "Space Complexity: The space complexity is O(1) as you only use a constant amount of extra space (a few variables like final_sum, p_r, p_rr).\n",
    "\n"
   ]
  },
  {
   "cell_type": "code",
   "execution_count": 4,
   "metadata": {},
   "outputs": [
    {
     "name": "stdout",
     "output_type": "stream",
     "text": [
      "2\n"
     ]
    }
   ],
   "source": [
    "def countTripletsOptimized(arr, r):\n",
    "    count = 0\n",
    "    potential_pairs = {}  # For tracking potential second elements of the triplets\n",
    "    potential_thirds = {} # For tracking potential third elements of the triplets\n",
    "\n",
    "    for val in arr:\n",
    "        # If val can be a third element, add to count for each time its second element was found\n",
    "        if val in potential_thirds:\n",
    "            count += potential_thirds[val]\n",
    "\n",
    "        # If val can be a second element, add to potential third elements\n",
    "        if val in potential_pairs:\n",
    "            potential_thirds[val * r] = potential_thirds.get(val * r, 0) + potential_pairs[val]\n",
    "\n",
    "        # Add val as a potential second element\n",
    "        potential_pairs[val * r] = potential_pairs.get(val * r, 0) + 1\n",
    "\n",
    "    return count\n",
    "\n",
    "arr = [1, 2, 2, 4]\n",
    "r = 2\n",
    "print(countTripletsOptimized(arr, r))\n"
   ]
  },
  {
   "cell_type": "markdown",
   "metadata": {},
   "source": [
    "Certainly! Let's walk through the optimized algorithm with your example array `arr = [1, 2, 2, 4]` and a ratio `r = 2` to illustrate how it works.\n",
    "\n",
    "The algorithm uses two dictionaries:\n",
    "- `potential_pairs`: Tracks counts of numbers that can potentially be the second element of a geometric triplet.\n",
    "- `potential_thirds`: Tracks counts of numbers that can potentially be the third element of a geometric triplet.\n",
    "\n",
    "### Steps of the Algorithm:\n",
    "\n",
    "1. **Initial State**:\n",
    "   - `arr = [1, 2, 2, 4]`, `r = 2`\n",
    "   - `potential_pairs = {}`\n",
    "   - `potential_thirds = {}`\n",
    "   - `count = 0` (number of triplets)\n",
    "\n",
    "2. **First Iteration** (`val = 1`):\n",
    "   - `potential_pairs = {2: 1}` (since 1 * 2 = 2)\n",
    "   - `potential_thirds` remains `{}` (no potential third elements yet)\n",
    "   - `count` remains `0`\n",
    "\n",
    "3. **Second Iteration** (`val = 2`):\n",
    "   - `val` is in `potential_pairs`, so we update `potential_thirds`:\n",
    "     - `potential_thirds = {4: 1}` (since 2 * 2 = 4)\n",
    "   - Add `2 * r` to `potential_pairs`:\n",
    "     - `potential_pairs = {2: 1, 4: 1}`\n",
    "   - `count` remains `0`\n",
    "\n",
    "4. **Third Iteration** (`val = 2` again):\n",
    "   - Similar to the second iteration, `val` is in `potential_pairs`:\n",
    "     - Update `potential_thirds` to `{4: 2}` (since another 4 can now be formed)\n",
    "   - Update `potential_pairs`:\n",
    "     - `potential_pairs = {2: 1, 4: 2}`\n",
    "   - `count` remains `0`\n",
    "\n",
    "5. **Fourth Iteration** (`val = 4`):\n",
    "   - `val` is in `potential_thirds`:\n",
    "     - We increase `count` by the value of `potential_thirds[4]`, which is `2`.\n",
    "     - So, `count = 2`.\n",
    "   - `4` is not in `potential_pairs`, so no updates there.\n",
    "   - Final `count` is `2`.\n",
    "\n",
    "### Explanation of the Count:\n",
    "\n",
    "- The `count` of `2` signifies that there are two triplets in the array that satisfy the condition of a geometric progression with a ratio of `2`. These triplets are:\n",
    "   - (1, 2, 4) - Formed during the second iteration (the first occurrence of `2`).\n",
    "   - (1, 2, 4) - Formed again during the third iteration (the second occurrence of `2`).\n",
    "\n",
    "In both cases, `1` is the first element, `2` is the second, and `4` is the third. The algorithm efficiently identifies these pairs without explicitly enumerating every possible triplet, thus providing an optimized solution."
   ]
  },
  {
   "cell_type": "code",
   "execution_count": null,
   "metadata": {},
   "outputs": [],
   "source": []
  }
 ],
 "metadata": {
  "kernelspec": {
   "display_name": "Python 3",
   "language": "python",
   "name": "python3"
  },
  "language_info": {
   "codemirror_mode": {
    "name": "ipython",
    "version": 3
   },
   "file_extension": ".py",
   "mimetype": "text/x-python",
   "name": "python",
   "nbconvert_exporter": "python",
   "pygments_lexer": "ipython3",
   "version": "3.10.13"
  }
 },
 "nbformat": 4,
 "nbformat_minor": 2
}
